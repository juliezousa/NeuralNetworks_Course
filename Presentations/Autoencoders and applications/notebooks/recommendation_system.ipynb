{
 "nbformat": 4,
 "nbformat_minor": 0,
 "metadata": {
  "kernelspec": {
   "display_name": "Python 3",
   "language": "python",
   "name": "python3"
  },
  "language_info": {
   "codemirror_mode": {
    "name": "ipython",
    "version": 2
   },
   "file_extension": ".py",
   "mimetype": "text/x-python",
   "name": "python",
   "nbconvert_exporter": "python",
   "pygments_lexer": "ipython2",
   "version": "2.7.6"
  },
  "colab": {
   "name": "recommendation_system.ipynb",
   "provenance": []
  },
  "accelerator": "GPU"
 },
 "cells": [
  {
   "cell_type": "markdown",
   "metadata": {
    "collapsed": false,
    "pycharm": {
     "name": "#%% md\n"
    },
    "id": "cs1DU1Ouh7d6"
   },
   "source": [
    "# Autoencoder for Recommendation Systems\n",
    "---"
   ]
  },
  {
   "cell_type": "code",
   "metadata": {
    "collapsed": true,
    "id": "kdR7Jx1ah7eF"
   },
   "source": [
    "import numpy as np\n",
    "import pandas as pd\n",
    "\n",
    "import tensorflow as tf\n",
    "\n",
    "import matplotlib.pyplot as plt\n",
    "%matplotlib inline"
   ],
   "execution_count": 64,
   "outputs": []
  },
  {
   "cell_type": "code",
   "metadata": {
    "pycharm": {
     "name": "#%%\n"
    },
    "id": "AOpK4odEh7eH"
   },
   "source": [
    "ratings = pd.read_csv('../data/recommendation_system/movie_lens/ratings.dat',\n",
    "                 sep='::',\n",
    "                 engine='python',\n",
    "                 encoding='latin-1',\n",
    "                 names=['userid', 'movieid', 'rating', 'timestamp'])\n",
    "movies = pd.read_csv('../data/recommendation_system/movie_lens/movies.dat',\n",
    "                    sep='::',\n",
    "                    engine='python',\n",
    "                    encoding='latin-1',\n",
    "                    names=['movieid', 'title', 'genre']).set_index(\"movieid\")"
   ],
   "execution_count": 67,
   "outputs": []
  },
  {
   "cell_type": "code",
   "execution_count": 68,
   "outputs": [
    {
     "data": {
      "text/plain": "   userid  movieid  rating  timestamp\n0       1      122     5.0  838985046\n1       1      185     5.0  838983525\n2       1      231     5.0  838983392\n3       1      292     5.0  838983421\n4       1      316     5.0  838983392",
      "text/html": "<div>\n<style scoped>\n    .dataframe tbody tr th:only-of-type {\n        vertical-align: middle;\n    }\n\n    .dataframe tbody tr th {\n        vertical-align: top;\n    }\n\n    .dataframe thead th {\n        text-align: right;\n    }\n</style>\n<table border=\"1\" class=\"dataframe\">\n  <thead>\n    <tr style=\"text-align: right;\">\n      <th></th>\n      <th>userid</th>\n      <th>movieid</th>\n      <th>rating</th>\n      <th>timestamp</th>\n    </tr>\n  </thead>\n  <tbody>\n    <tr>\n      <th>0</th>\n      <td>1</td>\n      <td>122</td>\n      <td>5.0</td>\n      <td>838985046</td>\n    </tr>\n    <tr>\n      <th>1</th>\n      <td>1</td>\n      <td>185</td>\n      <td>5.0</td>\n      <td>838983525</td>\n    </tr>\n    <tr>\n      <th>2</th>\n      <td>1</td>\n      <td>231</td>\n      <td>5.0</td>\n      <td>838983392</td>\n    </tr>\n    <tr>\n      <th>3</th>\n      <td>1</td>\n      <td>292</td>\n      <td>5.0</td>\n      <td>838983421</td>\n    </tr>\n    <tr>\n      <th>4</th>\n      <td>1</td>\n      <td>316</td>\n      <td>5.0</td>\n      <td>838983392</td>\n    </tr>\n  </tbody>\n</table>\n</div>"
     },
     "execution_count": 68,
     "metadata": {},
     "output_type": "execute_result"
    }
   ],
   "source": [
    "ratings.head()"
   ],
   "metadata": {
    "collapsed": false,
    "pycharm": {
     "name": "#%%\n"
    }
   }
  },
  {
   "cell_type": "code",
   "execution_count": 69,
   "outputs": [
    {
     "data": {
      "text/plain": "                                      title  \\\nmovieid                                       \n1                          Toy Story (1995)   \n2                            Jumanji (1995)   \n3                   Grumpier Old Men (1995)   \n4                  Waiting to Exhale (1995)   \n5        Father of the Bride Part II (1995)   \n\n                                               genre  \nmovieid                                               \n1        Adventure|Animation|Children|Comedy|Fantasy  \n2                         Adventure|Children|Fantasy  \n3                                     Comedy|Romance  \n4                               Comedy|Drama|Romance  \n5                                             Comedy  ",
      "text/html": "<div>\n<style scoped>\n    .dataframe tbody tr th:only-of-type {\n        vertical-align: middle;\n    }\n\n    .dataframe tbody tr th {\n        vertical-align: top;\n    }\n\n    .dataframe thead th {\n        text-align: right;\n    }\n</style>\n<table border=\"1\" class=\"dataframe\">\n  <thead>\n    <tr style=\"text-align: right;\">\n      <th></th>\n      <th>title</th>\n      <th>genre</th>\n    </tr>\n    <tr>\n      <th>movieid</th>\n      <th></th>\n      <th></th>\n    </tr>\n  </thead>\n  <tbody>\n    <tr>\n      <th>1</th>\n      <td>Toy Story (1995)</td>\n      <td>Adventure|Animation|Children|Comedy|Fantasy</td>\n    </tr>\n    <tr>\n      <th>2</th>\n      <td>Jumanji (1995)</td>\n      <td>Adventure|Children|Fantasy</td>\n    </tr>\n    <tr>\n      <th>3</th>\n      <td>Grumpier Old Men (1995)</td>\n      <td>Comedy|Romance</td>\n    </tr>\n    <tr>\n      <th>4</th>\n      <td>Waiting to Exhale (1995)</td>\n      <td>Comedy|Drama|Romance</td>\n    </tr>\n    <tr>\n      <th>5</th>\n      <td>Father of the Bride Part II (1995)</td>\n      <td>Comedy</td>\n    </tr>\n  </tbody>\n</table>\n</div>"
     },
     "execution_count": 69,
     "metadata": {},
     "output_type": "execute_result"
    }
   ],
   "source": [
    "movies.head()"
   ],
   "metadata": {
    "collapsed": false,
    "pycharm": {
     "name": "#%%\n"
    }
   }
  },
  {
   "cell_type": "code",
   "metadata": {
    "id": "uKJSapoZieve"
   },
   "source": [
    "rating_counts = ratings.groupby(\"movieid\")[\"rating\"].count().sort_values(ascending=False)\n",
    "\n",
    "# only the 500 most popular movies\n",
    "pop_ratings = ratings[ratings[\"movieid\"].isin((rating_counts).index[0:500])]\n",
    "pop_ratings = pop_ratings.set_index([\"movieid\", \"userid\"])"
   ],
   "execution_count": 70,
   "outputs": []
  },
  {
   "cell_type": "code",
   "metadata": {
    "id": "w2CYTANf2eh3",
    "outputId": "30f92aee-3e10-4974-d3ee-e5676e156261",
    "colab": {
     "base_uri": "https://localhost:8080/",
     "height": 232
    }
   },
   "source": [
    "pop_ratings.head()"
   ],
   "execution_count": 71,
   "outputs": [
    {
     "data": {
      "text/plain": "                rating  timestamp\nmovieid userid                   \n185     1          5.0  838983525\n231     1          5.0  838983392\n292     1          5.0  838983421\n316     1          5.0  838983392\n329     1          5.0  838983392",
      "text/html": "<div>\n<style scoped>\n    .dataframe tbody tr th:only-of-type {\n        vertical-align: middle;\n    }\n\n    .dataframe tbody tr th {\n        vertical-align: top;\n    }\n\n    .dataframe thead th {\n        text-align: right;\n    }\n</style>\n<table border=\"1\" class=\"dataframe\">\n  <thead>\n    <tr style=\"text-align: right;\">\n      <th></th>\n      <th></th>\n      <th>rating</th>\n      <th>timestamp</th>\n    </tr>\n    <tr>\n      <th>movieid</th>\n      <th>userid</th>\n      <th></th>\n      <th></th>\n    </tr>\n  </thead>\n  <tbody>\n    <tr>\n      <th>185</th>\n      <th>1</th>\n      <td>5.0</td>\n      <td>838983525</td>\n    </tr>\n    <tr>\n      <th>231</th>\n      <th>1</th>\n      <td>5.0</td>\n      <td>838983392</td>\n    </tr>\n    <tr>\n      <th>292</th>\n      <th>1</th>\n      <td>5.0</td>\n      <td>838983421</td>\n    </tr>\n    <tr>\n      <th>316</th>\n      <th>1</th>\n      <td>5.0</td>\n      <td>838983392</td>\n    </tr>\n    <tr>\n      <th>329</th>\n      <th>1</th>\n      <td>5.0</td>\n      <td>838983392</td>\n    </tr>\n  </tbody>\n</table>\n</div>"
     },
     "execution_count": 71,
     "metadata": {},
     "output_type": "execute_result"
    }
   ]
  },
  {
   "cell_type": "code",
   "metadata": {
    "id": "unL-eaxdn96_"
   },
   "source": [
    "prefs = pop_ratings[\"rating\"]\n",
    "\n",
    "mean_0 = pop_ratings[\"rating\"].mean()\n",
    "prefs = prefs - mean_0\n",
    "\n",
    "mean_i = prefs.groupby(\"movieid\").mean()\n",
    "prefs = prefs - mean_i\n",
    "\n",
    "mean_u = prefs.groupby(\"userid\").mean()\n",
    "prefs = prefs - mean_u\n",
    "\n",
    "\n",
    "pref_matrix = prefs.reset_index()[[\"userid\", \"movieid\", \"rating\"]].pivot(index=\"userid\", columns=\"movieid\", values=\"rating\")"
   ],
   "execution_count": 72,
   "outputs": []
  },
  {
   "cell_type": "code",
   "metadata": {
    "id": "9jDMw6mBrXpk",
    "outputId": "877ffef3-0c66-4761-e8bd-085bae4d706b",
    "colab": {
     "base_uri": "https://localhost:8080/",
     "height": 281
    }
   },
   "source": [
    "pref_matrix.head()"
   ],
   "execution_count": 73,
   "outputs": [
    {
     "data": {
      "text/plain": "movieid     1      2      3      5      6         7      10     11     16     \\\nuserid                                                                         \n1             NaN    NaN    NaN    NaN    NaN       NaN    NaN    NaN    NaN   \n2             NaN    NaN    NaN    NaN    NaN       NaN    NaN    NaN    NaN   \n3             NaN    NaN    NaN    NaN    NaN       NaN    NaN    NaN    NaN   \n4             NaN    NaN    NaN    NaN    NaN       NaN    NaN    NaN    NaN   \n5       -2.778443    NaN    NaN    NaN    NaN -0.214692    NaN    NaN    NaN   \n\nmovieid  17     ...  7361   7438   8360   8368   8636   8665   8961   32587  \\\nuserid          ...                                                           \n1          NaN  ...    NaN    NaN    NaN    NaN    NaN    NaN    NaN    NaN   \n2          NaN  ...    NaN    NaN    NaN    NaN    NaN    NaN    NaN    NaN   \n3          NaN  ...    NaN    NaN    NaN    NaN    NaN    NaN    NaN    NaN   \n4          NaN  ...    NaN    NaN    NaN    NaN    NaN    NaN    NaN    NaN   \n5          NaN  ...    NaN    NaN    NaN    NaN    NaN    NaN    NaN    NaN   \n\nmovieid  33493  33794  \nuserid                 \n1          NaN    NaN  \n2          NaN    NaN  \n3          NaN    NaN  \n4          NaN    NaN  \n5          NaN    NaN  \n\n[5 rows x 500 columns]",
      "text/html": "<div>\n<style scoped>\n    .dataframe tbody tr th:only-of-type {\n        vertical-align: middle;\n    }\n\n    .dataframe tbody tr th {\n        vertical-align: top;\n    }\n\n    .dataframe thead th {\n        text-align: right;\n    }\n</style>\n<table border=\"1\" class=\"dataframe\">\n  <thead>\n    <tr style=\"text-align: right;\">\n      <th>movieid</th>\n      <th>1</th>\n      <th>2</th>\n      <th>3</th>\n      <th>5</th>\n      <th>6</th>\n      <th>7</th>\n      <th>10</th>\n      <th>11</th>\n      <th>16</th>\n      <th>17</th>\n      <th>...</th>\n      <th>7361</th>\n      <th>7438</th>\n      <th>8360</th>\n      <th>8368</th>\n      <th>8636</th>\n      <th>8665</th>\n      <th>8961</th>\n      <th>32587</th>\n      <th>33493</th>\n      <th>33794</th>\n    </tr>\n    <tr>\n      <th>userid</th>\n      <th></th>\n      <th></th>\n      <th></th>\n      <th></th>\n      <th></th>\n      <th></th>\n      <th></th>\n      <th></th>\n      <th></th>\n      <th></th>\n      <th></th>\n      <th></th>\n      <th></th>\n      <th></th>\n      <th></th>\n      <th></th>\n      <th></th>\n      <th></th>\n      <th></th>\n      <th></th>\n      <th></th>\n    </tr>\n  </thead>\n  <tbody>\n    <tr>\n      <th>1</th>\n      <td>NaN</td>\n      <td>NaN</td>\n      <td>NaN</td>\n      <td>NaN</td>\n      <td>NaN</td>\n      <td>NaN</td>\n      <td>NaN</td>\n      <td>NaN</td>\n      <td>NaN</td>\n      <td>NaN</td>\n      <td>...</td>\n      <td>NaN</td>\n      <td>NaN</td>\n      <td>NaN</td>\n      <td>NaN</td>\n      <td>NaN</td>\n      <td>NaN</td>\n      <td>NaN</td>\n      <td>NaN</td>\n      <td>NaN</td>\n      <td>NaN</td>\n    </tr>\n    <tr>\n      <th>2</th>\n      <td>NaN</td>\n      <td>NaN</td>\n      <td>NaN</td>\n      <td>NaN</td>\n      <td>NaN</td>\n      <td>NaN</td>\n      <td>NaN</td>\n      <td>NaN</td>\n      <td>NaN</td>\n      <td>NaN</td>\n      <td>...</td>\n      <td>NaN</td>\n      <td>NaN</td>\n      <td>NaN</td>\n      <td>NaN</td>\n      <td>NaN</td>\n      <td>NaN</td>\n      <td>NaN</td>\n      <td>NaN</td>\n      <td>NaN</td>\n      <td>NaN</td>\n    </tr>\n    <tr>\n      <th>3</th>\n      <td>NaN</td>\n      <td>NaN</td>\n      <td>NaN</td>\n      <td>NaN</td>\n      <td>NaN</td>\n      <td>NaN</td>\n      <td>NaN</td>\n      <td>NaN</td>\n      <td>NaN</td>\n      <td>NaN</td>\n      <td>...</td>\n      <td>NaN</td>\n      <td>NaN</td>\n      <td>NaN</td>\n      <td>NaN</td>\n      <td>NaN</td>\n      <td>NaN</td>\n      <td>NaN</td>\n      <td>NaN</td>\n      <td>NaN</td>\n      <td>NaN</td>\n    </tr>\n    <tr>\n      <th>4</th>\n      <td>NaN</td>\n      <td>NaN</td>\n      <td>NaN</td>\n      <td>NaN</td>\n      <td>NaN</td>\n      <td>NaN</td>\n      <td>NaN</td>\n      <td>NaN</td>\n      <td>NaN</td>\n      <td>NaN</td>\n      <td>...</td>\n      <td>NaN</td>\n      <td>NaN</td>\n      <td>NaN</td>\n      <td>NaN</td>\n      <td>NaN</td>\n      <td>NaN</td>\n      <td>NaN</td>\n      <td>NaN</td>\n      <td>NaN</td>\n      <td>NaN</td>\n    </tr>\n    <tr>\n      <th>5</th>\n      <td>-2.778443</td>\n      <td>NaN</td>\n      <td>NaN</td>\n      <td>NaN</td>\n      <td>NaN</td>\n      <td>-0.214692</td>\n      <td>NaN</td>\n      <td>NaN</td>\n      <td>NaN</td>\n      <td>NaN</td>\n      <td>...</td>\n      <td>NaN</td>\n      <td>NaN</td>\n      <td>NaN</td>\n      <td>NaN</td>\n      <td>NaN</td>\n      <td>NaN</td>\n      <td>NaN</td>\n      <td>NaN</td>\n      <td>NaN</td>\n      <td>NaN</td>\n    </tr>\n  </tbody>\n</table>\n<p>5 rows × 500 columns</p>\n</div>"
     },
     "execution_count": 73,
     "metadata": {},
     "output_type": "execute_result"
    }
   ]
  },
  {
   "cell_type": "code",
   "metadata": {
    "id": "PsDH9tzDrasH"
   },
   "source": [
    "pref_matrix.fillna(0, inplace=True)"
   ],
   "execution_count": 74,
   "outputs": []
  },
  {
   "cell_type": "code",
   "metadata": {
    "pycharm": {
     "name": "#%%\n"
    },
    "id": "urr8GXiBh7eL"
   },
   "source": [
    "def sparsity_calculation(data):\n",
    "    data = np.nan_to_num(data)\n",
    "    return round(1. - np.count_nonzero(data) / data.size, 3) * 100"
   ],
   "execution_count": 75,
   "outputs": []
  },
  {
   "cell_type": "code",
   "metadata": {
    "pycharm": {
     "name": "#%%\n"
    },
    "id": "zTJewr8fh7eM",
    "outputId": "e1f66a43-8c38-4b89-8123-1a4477014845",
    "colab": {
     "base_uri": "https://localhost:8080/"
    }
   },
   "source": [
    "sparsity_calculation(pref_matrix)"
   ],
   "execution_count": 76,
   "outputs": [
    {
     "data": {
      "text/plain": "85.6"
     },
     "execution_count": 76,
     "metadata": {},
     "output_type": "execute_result"
    }
   ]
  },
  {
   "cell_type": "markdown",
   "metadata": {
    "id": "A-JoarkP1gyh"
   },
   "source": []
  },
  {
   "cell_type": "code",
   "metadata": {
    "pycharm": {
     "name": "#%%\n"
    },
    "id": "idn8dSosh7eN"
   },
   "source": [
    "model = tf.keras.Sequential([\n",
    "    #encoder\n",
    "    tf.keras.layers.Dense(units=256, activation='tanh', name='enc_1', input_dim=pref_matrix.shape[1]),\n",
    "    tf.keras.layers.BatchNormalization(name='batch_1'),\n",
    "    tf.keras.layers.Dense(units=128, activation='tanh', name='enc_2'),\n",
    "    tf.keras.layers.BatchNormalization(name='batch_2'),\n",
    "    tf.keras.layers.Dropout(0.5, name='drop_2'),\n",
    "\n",
    "    #bottleneck\n",
    "    tf.keras.layers.Dense(units=32, activation='linear', name='embeddings'),\n",
    "\n",
    "    #decoder\n",
    "    tf.keras.layers.Dense(units=128, activation='tanh', name='dec_1'),\n",
    "    tf.keras.layers.Dense(units=pref_matrix.shape[1], activation='linear', name='user_rating_pred')\n",
    "])"
   ],
   "execution_count": 77,
   "outputs": []
  },
  {
   "cell_type": "code",
   "metadata": {
    "pycharm": {
     "name": "#%%\n"
    },
    "id": "mIoiNPLHh7eO"
   },
   "source": [
    "model.compile(optimizer='adam', loss='mse')"
   ],
   "execution_count": 78,
   "outputs": []
  },
  {
   "cell_type": "code",
   "metadata": {
    "pycharm": {
     "name": "#%%\n"
    },
    "id": "NVB3eZv7h7eO"
   },
   "source": [
    "callback = tf.keras.callbacks.EarlyStopping(monitor='val_loss', patience=5, mode='auto', verbose=1)"
   ],
   "execution_count": 79,
   "outputs": []
  },
  {
   "cell_type": "code",
   "metadata": {
    "pycharm": {
     "name": "#%%\n"
    },
    "id": "bBEfVCMph7eO",
    "outputId": "a628b24f-2156-42e2-e21e-52af7e156892",
    "colab": {
     "base_uri": "https://localhost:8080/"
    }
   },
   "source": [
    "history = model.fit(\n",
    "    pref_matrix,\n",
    "    pref_matrix,\n",
    "    validation_split=0.1,\n",
    "    epochs=50,\n",
    "    batch_size=32,\n",
    "    callbacks=[callback]\n",
    ")"
   ],
   "execution_count": 80,
   "outputs": [
    {
     "name": "stdout",
     "output_type": "stream",
     "text": [
      "Epoch 1/50\n",
      "1962/1962 [==============================] - 10s 4ms/step - loss: 0.0943 - val_loss: 0.0892\n",
      "Epoch 2/50\n",
      "1962/1962 [==============================] - 5s 3ms/step - loss: 0.0878 - val_loss: 0.0874\n",
      "Epoch 3/50\n",
      "1962/1962 [==============================] - 6s 3ms/step - loss: 0.0868 - val_loss: 0.0866\n",
      "Epoch 4/50\n",
      "1962/1962 [==============================] - 5s 3ms/step - loss: 0.0864 - val_loss: 0.0866\n",
      "Epoch 5/50\n",
      "1962/1962 [==============================] - 7s 3ms/step - loss: 0.0861 - val_loss: 0.0910\n",
      "Epoch 6/50\n",
      "1962/1962 [==============================] - 5s 3ms/step - loss: 0.0859 - val_loss: 0.0900\n",
      "Epoch 7/50\n",
      "1962/1962 [==============================] - 5s 2ms/step - loss: 0.0858 - val_loss: 0.0902\n",
      "Epoch 8/50\n",
      "1962/1962 [==============================] - 6s 3ms/step - loss: 0.0858 - val_loss: 0.0886\n",
      "Epoch 9/50\n",
      "1962/1962 [==============================] - 10s 5ms/step - loss: 0.0858 - val_loss: 0.0908\n",
      "Epoch 00009: early stopping\n"
     ]
    }
   ]
  },
  {
   "cell_type": "code",
   "metadata": {
    "pycharm": {
     "name": "#%%\n"
    },
    "id": "Xy77pG5ph7eP",
    "outputId": "729ddef1-ef4a-4c79-c18c-6364931885cb",
    "colab": {
     "base_uri": "https://localhost:8080/",
     "height": 407
    }
   },
   "source": [
    "epoch_loss = history.history['loss']\n",
    "epoch_val_loss = history.history['val_loss']\n",
    "\n",
    "plt.figure(figsize=(20,6))\n",
    "plt.plot(epoch_loss, 'b-', linewidth=2, label='Train Loss')\n",
    "plt.plot(epoch_val_loss, 'r-', linewidth=2, label='Val Loss')\n",
    "plt.title('Evolution of loss on train & validation datasets over epochs')\n",
    "plt.legend(loc='best')"
   ],
   "execution_count": 81,
   "outputs": [
    {
     "data": {
      "text/plain": "<matplotlib.legend.Legend at 0x18e8851f0>"
     },
     "execution_count": 81,
     "metadata": {},
     "output_type": "execute_result"
    },
    {
     "data": {
      "text/plain": "<Figure size 1440x432 with 1 Axes>",
      "image/png": "[encoded data removed]"
     },
     "metadata": {
      "needs_background": "light"
     },
     "output_type": "display_data"
    }
   ]
  },
  {
   "cell_type": "code",
   "metadata": {
    "pycharm": {
     "name": "#%%\n"
    },
    "id": "RkWrGz6-h7eP"
   },
   "source": [
    "predictions = model.predict(pref_matrix)"
   ],
   "execution_count": 82,
   "outputs": []
  },
  {
   "cell_type": "code",
   "metadata": {
    "pycharm": {
     "name": "#%%\n"
    },
    "id": "tC0A7upKh7eQ"
   },
   "source": [
    "predictions = pd.DataFrame(predictions, columns=pref_matrix.columns, index=pref_matrix.index)"
   ],
   "execution_count": 83,
   "outputs": []
  },
  {
   "cell_type": "code",
   "metadata": {
    "pycharm": {
     "name": "#%%\n"
    },
    "id": "qtYlyFZ_h7eQ",
    "outputId": "ed8bbdb1-2b66-47d1-952d-d33dd1961699",
    "colab": {
     "base_uri": "https://localhost:8080/",
     "height": 281
    }
   },
   "source": [
    "predictions.head()"
   ],
   "execution_count": 84,
   "outputs": [
    {
     "data": {
      "text/plain": "movieid     1         2         3         5         6         7         10     \\\nuserid                                                                          \n1       -0.148986  0.059091  0.052215  0.082359 -0.093471  0.066327  0.008126   \n2       -0.117652  0.050064  0.020528  0.037800 -0.135646  0.039065 -0.119224   \n3       -0.142661  0.047826  0.032043  0.068232 -0.070372  0.067541 -0.014205   \n4        0.163957  0.177020  0.051946  0.108267 -0.133305  0.077169  0.059411   \n5       -1.628515 -0.081278 -0.013174  0.001828  0.083406  0.055628  0.019659   \n\nmovieid     11        16        17     ...     7361      7438      8360   \\\nuserid                                 ...                                 \n1        0.083269 -0.038406 -0.001630  ...  0.057987  0.008920  0.021349   \n2        0.086228 -0.090979  0.012690  ...  0.045863  0.020351 -0.011435   \n3        0.091553 -0.038560  0.032043  ...  0.050052  0.003268  0.028991   \n4        0.136923 -0.027169  0.065966  ... -0.007248  0.002035  0.010718   \n5        0.005920  0.024148  0.196646  ...  0.076155  0.021406 -0.077173   \n\nmovieid     8368      8636      8665      8961      32587     33493     33794  \nuserid                                                                         \n1        0.020996 -0.035740  0.012593 -0.030025 -0.035415 -0.002439 -0.044405  \n2       -0.010230 -0.072625 -0.023421 -0.038389 -0.006881 -0.011360 -0.080915  \n3       -0.001594 -0.067870  0.008130 -0.031149 -0.011111 -0.017887 -0.045234  \n4       -0.007156 -0.053186 -0.015260 -0.027799  0.002520  0.005192 -0.020249  \n5       -0.001023 -0.118192  0.010257 -0.142166  0.031449 -0.006560 -0.078074  \n\n[5 rows x 500 columns]",
      "text/html": "<div>\n<style scoped>\n    .dataframe tbody tr th:only-of-type {\n        vertical-align: middle;\n    }\n\n    .dataframe tbody tr th {\n        vertical-align: top;\n    }\n\n    .dataframe thead th {\n        text-align: right;\n    }\n</style>\n<table border=\"1\" class=\"dataframe\">\n  <thead>\n    <tr style=\"text-align: right;\">\n      <th>movieid</th>\n      <th>1</th>\n      <th>2</th>\n      <th>3</th>\n      <th>5</th>\n      <th>6</th>\n      <th>7</th>\n      <th>10</th>\n      <th>11</th>\n      <th>16</th>\n      <th>17</th>\n      <th>...</th>\n      <th>7361</th>\n      <th>7438</th>\n      <th>8360</th>\n      <th>8368</th>\n      <th>8636</th>\n      <th>8665</th>\n      <th>8961</th>\n      <th>32587</th>\n      <th>33493</th>\n      <th>33794</th>\n    </tr>\n    <tr>\n      <th>userid</th>\n      <th></th>\n      <th></th>\n      <th></th>\n      <th></th>\n      <th></th>\n      <th></th>\n      <th></th>\n      <th></th>\n      <th></th>\n      <th></th>\n      <th></th>\n      <th></th>\n      <th></th>\n      <th></th>\n      <th></th>\n      <th></th>\n      <th></th>\n      <th></th>\n      <th></th>\n      <th></th>\n      <th></th>\n    </tr>\n  </thead>\n  <tbody>\n    <tr>\n      <th>1</th>\n      <td>-0.148986</td>\n      <td>0.059091</td>\n      <td>0.052215</td>\n      <td>0.082359</td>\n      <td>-0.093471</td>\n      <td>0.066327</td>\n      <td>0.008126</td>\n      <td>0.083269</td>\n      <td>-0.038406</td>\n      <td>-0.001630</td>\n      <td>...</td>\n      <td>0.057987</td>\n      <td>0.008920</td>\n      <td>0.021349</td>\n      <td>0.020996</td>\n      <td>-0.035740</td>\n      <td>0.012593</td>\n      <td>-0.030025</td>\n      <td>-0.035415</td>\n      <td>-0.002439</td>\n      <td>-0.044405</td>\n    </tr>\n    <tr>\n      <th>2</th>\n      <td>-0.117652</td>\n      <td>0.050064</td>\n      <td>0.020528</td>\n      <td>0.037800</td>\n      <td>-0.135646</td>\n      <td>0.039065</td>\n      <td>-0.119224</td>\n      <td>0.086228</td>\n      <td>-0.090979</td>\n      <td>0.012690</td>\n      <td>...</td>\n      <td>0.045863</td>\n      <td>0.020351</td>\n      <td>-0.011435</td>\n      <td>-0.010230</td>\n      <td>-0.072625</td>\n      <td>-0.023421</td>\n      <td>-0.038389</td>\n      <td>-0.006881</td>\n      <td>-0.011360</td>\n      <td>-0.080915</td>\n    </tr>\n    <tr>\n      <th>3</th>\n      <td>-0.142661</td>\n      <td>0.047826</td>\n      <td>0.032043</td>\n      <td>0.068232</td>\n      <td>-0.070372</td>\n      <td>0.067541</td>\n      <td>-0.014205</td>\n      <td>0.091553</td>\n      <td>-0.038560</td>\n      <td>0.032043</td>\n      <td>...</td>\n      <td>0.050052</td>\n      <td>0.003268</td>\n      <td>0.028991</td>\n      <td>-0.001594</td>\n      <td>-0.067870</td>\n      <td>0.008130</td>\n      <td>-0.031149</td>\n      <td>-0.011111</td>\n      <td>-0.017887</td>\n      <td>-0.045234</td>\n    </tr>\n    <tr>\n      <th>4</th>\n      <td>0.163957</td>\n      <td>0.177020</td>\n      <td>0.051946</td>\n      <td>0.108267</td>\n      <td>-0.133305</td>\n      <td>0.077169</td>\n      <td>0.059411</td>\n      <td>0.136923</td>\n      <td>-0.027169</td>\n      <td>0.065966</td>\n      <td>...</td>\n      <td>-0.007248</td>\n      <td>0.002035</td>\n      <td>0.010718</td>\n      <td>-0.007156</td>\n      <td>-0.053186</td>\n      <td>-0.015260</td>\n      <td>-0.027799</td>\n      <td>0.002520</td>\n      <td>0.005192</td>\n      <td>-0.020249</td>\n    </tr>\n    <tr>\n      <th>5</th>\n      <td>-1.628515</td>\n      <td>-0.081278</td>\n      <td>-0.013174</td>\n      <td>0.001828</td>\n      <td>0.083406</td>\n      <td>0.055628</td>\n      <td>0.019659</td>\n      <td>0.005920</td>\n      <td>0.024148</td>\n      <td>0.196646</td>\n      <td>...</td>\n      <td>0.076155</td>\n      <td>0.021406</td>\n      <td>-0.077173</td>\n      <td>-0.001023</td>\n      <td>-0.118192</td>\n      <td>0.010257</td>\n      <td>-0.142166</td>\n      <td>0.031449</td>\n      <td>-0.006560</td>\n      <td>-0.078074</td>\n    </tr>\n  </tbody>\n</table>\n<p>5 rows × 500 columns</p>\n</div>"
     },
     "execution_count": 84,
     "metadata": {},
     "output_type": "execute_result"
    }
   ]
  },
  {
   "cell_type": "code",
   "metadata": {
    "id": "OWtZuNhN7PwH"
   },
   "source": [
    "def recommend_for_user(real_user_item_matrix, pred_user_item_matrix, content_data, user_id, top_n):\n",
    "\n",
    "  ratings_df = real_user_item_matrix.loc[user_idx].to_frame('ratings').join(pred_user_item_matrix.loc[user_idx].to_frame('pred_ratings'))\n",
    "  recs_df = ratings_df[ratings_df['ratings'] == 0].sort_values(by='pred_ratings', ascending=False).drop('ratings', axis=1)\n",
    "  watch_df = ratings_df[ratings_df['ratings'] != 0].sort_values(by='ratings', ascending=False).drop('pred_ratings', axis=1)\n",
    "\n",
    "  recs_df = recs_df.join(content_data).head(top_n)\n",
    "  watch_df = watch_df.join(content_data).head(top_n)\n",
    "\n",
    "  return recs_df, watch_df"
   ],
   "execution_count": 85,
   "outputs": []
  },
  {
   "cell_type": "code",
   "metadata": {
    "id": "-OlevRi57ujj"
   },
   "source": [
    "user_idx = 4\n",
    "top_n = 20\n",
    "\n",
    "recs_df, watch_df = recommend_for_user(real_user_item_matrix=pref_matrix, pred_user_item_matrix=predictions, content_data=movies, user_id=user_idx, top_n=top_n)"
   ],
   "execution_count": 86,
   "outputs": []
  },
  {
   "cell_type": "code",
   "metadata": {
    "id": "EvpG3GAU73fH",
    "outputId": "1cb82ce7-4ad6-4bc5-8741-42e7527bd152",
    "colab": {
     "base_uri": "https://localhost:8080/",
     "height": 1000
    }
   },
   "source": [
    "print('RECOMMENDATIONS:')\n",
    "display(recs_df)\n",
    "print('=' * 100)\n",
    "print('WATCH LIST:')\n",
    "display(watch_df)"
   ],
   "execution_count": 87,
   "outputs": [
    {
     "name": "stdout",
     "output_type": "stream",
     "text": [
      "RECOMMENDATIONS:\n"
     ]
    },
    {
     "data": {
      "text/plain": "         pred_ratings                                             title  \\\nmovieid                                                                   \n2858         0.537632                            American Beauty (1999)   \n780          0.457443              Independence Day (a.k.a. ID4) (1996)   \n736          0.344752                                    Twister (1996)   \n539          0.256311                       Sleepless in Seattle (1993)   \n48           0.202016                                 Pocahontas (1995)   \n141          0.191502                              Birdcage, The (1996)   \n2            0.177020                                    Jumanji (1995)   \n1356         0.173531                   Star Trek: First Contact (1996)   \n1917         0.173492                                 Armageddon (1998)   \n1            0.163957                                  Toy Story (1995)   \n1377         0.159267                             Batman Returns (1992)   \n62           0.154776                         Mr. Holland's Opus (1995)   \n1562         0.148664                             Batman & Robin (1997)   \n2628         0.147339  Star Wars: Episode I - The Phantom Menace (1999)   \n11           0.136923                    American President, The (1995)   \n508          0.133322                               Philadelphia (1993)   \n168          0.131210                               First Knight (1995)   \n1375         0.129604        Star Trek III: The Search for Spock (1984)   \n2959         0.126712                                 Fight Club (1999)   \n160          0.123250                                      Congo (1995)   \n\n                                                 genre  \nmovieid                                                 \n2858                                             Drama  \n780                        Action|Adventure|Sci-Fi|War  \n736                  Action|Adventure|Romance|Thriller  \n539                               Comedy|Drama|Romance  \n48                  Animation|Children|Musical|Romance  \n141                                             Comedy  \n2                           Adventure|Children|Fantasy  \n1356                  Action|Adventure|Sci-Fi|Thriller  \n1917                    Action|Romance|Sci-Fi|Thriller  \n1          Adventure|Animation|Children|Comedy|Fantasy  \n1377     Action|Crime|Fantasy|Mystery|Romance|Thriller  \n62                                               Drama  \n1562                 Action|Adventure|Fantasy|Thriller  \n2628                           Action|Adventure|Sci-Fi  \n11                                Comedy|Drama|Romance  \n508                                              Drama  \n168                               Action|Drama|Romance  \n1375                           Action|Adventure|Sci-Fi  \n2959                       Action|Crime|Drama|Thriller  \n160                    Action|Adventure|Mystery|Sci-Fi  ",
      "text/html": "<div>\n<style scoped>\n    .dataframe tbody tr th:only-of-type {\n        vertical-align: middle;\n    }\n\n    .dataframe tbody tr th {\n        vertical-align: top;\n    }\n\n    .dataframe thead th {\n        text-align: right;\n    }\n</style>\n<table border=\"1\" class=\"dataframe\">\n  <thead>\n    <tr style=\"text-align: right;\">\n      <th></th>\n      <th>pred_ratings</th>\n      <th>title</th>\n      <th>genre</th>\n    </tr>\n    <tr>\n      <th>movieid</th>\n      <th></th>\n      <th></th>\n      <th></th>\n    </tr>\n  </thead>\n  <tbody>\n    <tr>\n      <th>2858</th>\n      <td>0.537632</td>\n      <td>American Beauty (1999)</td>\n      <td>Drama</td>\n    </tr>\n    <tr>\n      <th>780</th>\n      <td>0.457443</td>\n      <td>Independence Day (a.k.a. ID4) (1996)</td>\n      <td>Action|Adventure|Sci-Fi|War</td>\n    </tr>\n    <tr>\n      <th>736</th>\n      <td>0.344752</td>\n      <td>Twister (1996)</td>\n      <td>Action|Adventure|Romance|Thriller</td>\n    </tr>\n    <tr>\n      <th>539</th>\n      <td>0.256311</td>\n      <td>Sleepless in Seattle (1993)</td>\n      <td>Comedy|Drama|Romance</td>\n    </tr>\n    <tr>\n      <th>48</th>\n      <td>0.202016</td>\n      <td>Pocahontas (1995)</td>\n      <td>Animation|Children|Musical|Romance</td>\n    </tr>\n    <tr>\n      <th>141</th>\n      <td>0.191502</td>\n      <td>Birdcage, The (1996)</td>\n      <td>Comedy</td>\n    </tr>\n    <tr>\n      <th>2</th>\n      <td>0.177020</td>\n      <td>Jumanji (1995)</td>\n      <td>Adventure|Children|Fantasy</td>\n    </tr>\n    <tr>\n      <th>1356</th>\n      <td>0.173531</td>\n      <td>Star Trek: First Contact (1996)</td>\n      <td>Action|Adventure|Sci-Fi|Thriller</td>\n    </tr>\n    <tr>\n      <th>1917</th>\n      <td>0.173492</td>\n      <td>Armageddon (1998)</td>\n      <td>Action|Romance|Sci-Fi|Thriller</td>\n    </tr>\n    <tr>\n      <th>1</th>\n      <td>0.163957</td>\n      <td>Toy Story (1995)</td>\n      <td>Adventure|Animation|Children|Comedy|Fantasy</td>\n    </tr>\n    <tr>\n      <th>1377</th>\n      <td>0.159267</td>\n      <td>Batman Returns (1992)</td>\n      <td>Action|Crime|Fantasy|Mystery|Romance|Thriller</td>\n    </tr>\n    <tr>\n      <th>62</th>\n      <td>0.154776</td>\n      <td>Mr. Holland's Opus (1995)</td>\n      <td>Drama</td>\n    </tr>\n    <tr>\n      <th>1562</th>\n      <td>0.148664</td>\n      <td>Batman &amp; Robin (1997)</td>\n      <td>Action|Adventure|Fantasy|Thriller</td>\n    </tr>\n    <tr>\n      <th>2628</th>\n      <td>0.147339</td>\n      <td>Star Wars: Episode I - The Phantom Menace (1999)</td>\n      <td>Action|Adventure|Sci-Fi</td>\n    </tr>\n    <tr>\n      <th>11</th>\n      <td>0.136923</td>\n      <td>American President, The (1995)</td>\n      <td>Comedy|Drama|Romance</td>\n    </tr>\n    <tr>\n      <th>508</th>\n      <td>0.133322</td>\n      <td>Philadelphia (1993)</td>\n      <td>Drama</td>\n    </tr>\n    <tr>\n      <th>168</th>\n      <td>0.131210</td>\n      <td>First Knight (1995)</td>\n      <td>Action|Drama|Romance</td>\n    </tr>\n    <tr>\n      <th>1375</th>\n      <td>0.129604</td>\n      <td>Star Trek III: The Search for Spock (1984)</td>\n      <td>Action|Adventure|Sci-Fi</td>\n    </tr>\n    <tr>\n      <th>2959</th>\n      <td>0.126712</td>\n      <td>Fight Club (1999)</td>\n      <td>Action|Crime|Drama|Thriller</td>\n    </tr>\n    <tr>\n      <th>160</th>\n      <td>0.123250</td>\n      <td>Congo (1995)</td>\n      <td>Action|Adventure|Mystery|Sci-Fi</td>\n    </tr>\n  </tbody>\n</table>\n</div>"
     },
     "metadata": {},
     "output_type": "display_data"
    },
    {
     "name": "stdout",
     "output_type": "stream",
     "text": [
      "====================================================================================================\n",
      "WATCH LIST:\n"
     ]
    },
    {
     "data": {
      "text/plain": "          ratings                              title  \\\nmovieid                                                \n153      1.443146              Batman Forever (1995)   \n410      1.383039        Addams Family Values (1993)   \n586      1.301728                  Home Alone (1990)   \n317      1.203500           Santa Clause, The (1994)   \n329      1.023024      Star Trek: Generations (1994)   \n316      1.009942                    Stargate (1994)   \n592      0.972738                      Batman (1989)   \n500      0.950192              Mrs. Doubtfire (1993)   \n587      0.906725                       Ghost (1990)   \n165      0.880822  Die Hard: With a Vengeance (1995)   \n266      0.863735         Legends of the Fall (1994)   \n480      0.697731               Jurassic Park (1993)   \n588      0.692409                     Aladdin (1992)   \n595      0.687447        Beauty and the Beast (1991)   \n34       0.653951                        Babe (1995)   \n590      0.617187          Dances with Wolves (1990)   \n364      0.610702              Lion King, The (1994)   \n161      0.610687                Crimson Tide (1995)   \n150      0.471945                   Apollo 13 (1995)   \n589      0.431597  Terminator 2: Judgment Day (1991)   \n\n                                               genre  \nmovieid                                               \n153                    Action|Adventure|Comedy|Crime  \n410                                           Comedy  \n586                                  Children|Comedy  \n317                             Comedy|Drama|Fantasy  \n329                    Action|Adventure|Drama|Sci-Fi  \n316                          Action|Adventure|Sci-Fi  \n592                     Action|Crime|Sci-Fi|Thriller  \n500                                     Comedy|Drama  \n587            Comedy|Drama|Fantasy|Romance|Thriller  \n165                            Action|Crime|Thriller  \n266                        Drama|Romance|War|Western  \n480                 Action|Adventure|Sci-Fi|Thriller  \n588      Adventure|Animation|Children|Comedy|Musical  \n595       Animation|Children|Fantasy|Musical|Romance  \n34                     Children|Comedy|Drama|Fantasy  \n590                          Adventure|Drama|Western  \n364       Adventure|Animation|Children|Drama|Musical  \n161                               Drama|Thriller|War  \n150                                  Adventure|Drama  \n589                                    Action|Sci-Fi  ",
      "text/html": "<div>\n<style scoped>\n    .dataframe tbody tr th:only-of-type {\n        vertical-align: middle;\n    }\n\n    .dataframe tbody tr th {\n        vertical-align: top;\n    }\n\n    .dataframe thead th {\n        text-align: right;\n    }\n</style>\n<table border=\"1\" class=\"dataframe\">\n  <thead>\n    <tr style=\"text-align: right;\">\n      <th></th>\n      <th>ratings</th>\n      <th>title</th>\n      <th>genre</th>\n    </tr>\n    <tr>\n      <th>movieid</th>\n      <th></th>\n      <th></th>\n      <th></th>\n    </tr>\n  </thead>\n  <tbody>\n    <tr>\n      <th>153</th>\n      <td>1.443146</td>\n      <td>Batman Forever (1995)</td>\n      <td>Action|Adventure|Comedy|Crime</td>\n    </tr>\n    <tr>\n      <th>410</th>\n      <td>1.383039</td>\n      <td>Addams Family Values (1993)</td>\n      <td>Comedy</td>\n    </tr>\n    <tr>\n      <th>586</th>\n      <td>1.301728</td>\n      <td>Home Alone (1990)</td>\n      <td>Children|Comedy</td>\n    </tr>\n    <tr>\n      <th>317</th>\n      <td>1.203500</td>\n      <td>Santa Clause, The (1994)</td>\n      <td>Comedy|Drama|Fantasy</td>\n    </tr>\n    <tr>\n      <th>329</th>\n      <td>1.023024</td>\n      <td>Star Trek: Generations (1994)</td>\n      <td>Action|Adventure|Drama|Sci-Fi</td>\n    </tr>\n    <tr>\n      <th>316</th>\n      <td>1.009942</td>\n      <td>Stargate (1994)</td>\n      <td>Action|Adventure|Sci-Fi</td>\n    </tr>\n    <tr>\n      <th>592</th>\n      <td>0.972738</td>\n      <td>Batman (1989)</td>\n      <td>Action|Crime|Sci-Fi|Thriller</td>\n    </tr>\n    <tr>\n      <th>500</th>\n      <td>0.950192</td>\n      <td>Mrs. Doubtfire (1993)</td>\n      <td>Comedy|Drama</td>\n    </tr>\n    <tr>\n      <th>587</th>\n      <td>0.906725</td>\n      <td>Ghost (1990)</td>\n      <td>Comedy|Drama|Fantasy|Romance|Thriller</td>\n    </tr>\n    <tr>\n      <th>165</th>\n      <td>0.880822</td>\n      <td>Die Hard: With a Vengeance (1995)</td>\n      <td>Action|Crime|Thriller</td>\n    </tr>\n    <tr>\n      <th>266</th>\n      <td>0.863735</td>\n      <td>Legends of the Fall (1994)</td>\n      <td>Drama|Romance|War|Western</td>\n    </tr>\n    <tr>\n      <th>480</th>\n      <td>0.697731</td>\n      <td>Jurassic Park (1993)</td>\n      <td>Action|Adventure|Sci-Fi|Thriller</td>\n    </tr>\n    <tr>\n      <th>588</th>\n      <td>0.692409</td>\n      <td>Aladdin (1992)</td>\n      <td>Adventure|Animation|Children|Comedy|Musical</td>\n    </tr>\n    <tr>\n      <th>595</th>\n      <td>0.687447</td>\n      <td>Beauty and the Beast (1991)</td>\n      <td>Animation|Children|Fantasy|Musical|Romance</td>\n    </tr>\n    <tr>\n      <th>34</th>\n      <td>0.653951</td>\n      <td>Babe (1995)</td>\n      <td>Children|Comedy|Drama|Fantasy</td>\n    </tr>\n    <tr>\n      <th>590</th>\n      <td>0.617187</td>\n      <td>Dances with Wolves (1990)</td>\n      <td>Adventure|Drama|Western</td>\n    </tr>\n    <tr>\n      <th>364</th>\n      <td>0.610702</td>\n      <td>Lion King, The (1994)</td>\n      <td>Adventure|Animation|Children|Drama|Musical</td>\n    </tr>\n    <tr>\n      <th>161</th>\n      <td>0.610687</td>\n      <td>Crimson Tide (1995)</td>\n      <td>Drama|Thriller|War</td>\n    </tr>\n    <tr>\n      <th>150</th>\n      <td>0.471945</td>\n      <td>Apollo 13 (1995)</td>\n      <td>Adventure|Drama</td>\n    </tr>\n    <tr>\n      <th>589</th>\n      <td>0.431597</td>\n      <td>Terminator 2: Judgment Day (1991)</td>\n      <td>Action|Sci-Fi</td>\n    </tr>\n  </tbody>\n</table>\n</div>"
     },
     "metadata": {},
     "output_type": "display_data"
    }
   ]
  },
  {
   "cell_type": "code",
   "metadata": {
    "id": "yGz2qqxE4ZgS"
   },
   "source": [
    ""
   ],
   "execution_count": null,
   "outputs": []
  }
 ]
}